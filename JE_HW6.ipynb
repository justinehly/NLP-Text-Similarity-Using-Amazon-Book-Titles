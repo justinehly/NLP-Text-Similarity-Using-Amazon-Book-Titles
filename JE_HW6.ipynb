{
 "cells": [
  {
   "cell_type": "markdown",
   "metadata": {},
   "source": [
    "### Justin Ehly\n",
    "#### HW6 - NLP\n",
    "#### Answer explanations and discussion are after the code for each section."
   ]
  },
  {
   "cell_type": "markdown",
   "metadata": {},
   "source": [
    "1.\tEvaluate text similarity of Amazon book search results by doing the following:<br>\n",
    "a.\tDo a book search on Amazon via the search box. Manually copy the full book title (including subtitle) of each of the top 24 books listed in the first two pages of search results. \n"
   ]
  },
  {
   "cell_type": "code",
   "execution_count": 1,
   "metadata": {},
   "outputs": [],
   "source": [
    "books = ['Before the Gospels: The Gospels of Thomas, Q, Signs, and The Passion: The Writings from Which the Gospels Sprang',\n",
    "         'The Gnostic Gospels: The Gnostic Wisdom of Jesus including the Lost Apocryphal Gospel of Thomas, John and Mary Magdalene',\n",
    "         'The Gospel Of Mary And Other Apocryphal Gospels: The Gospel Of Mary, Peter, Thomas, The Birth Of Mary And The Acts Of Pontius Pilate',\n",
    "         'The Critical Edition of Q (Hermeneia)',\n",
    "         'The Sayings Gospel Q in Greek and English with Parallels from the Gospels of Mark and Thomas (English and Greek Edition)',\n",
    "         'Q Thomas Reader (English, Coptic and Coptic Edition)',\n",
    "         'Thomas and the Gospels: The Case for Thomas\\'s Familiarity with the Synoptics',\n",
    "         'How the Words of Jesus Became Gospel: How the Sources of Q, Signs, Passion, and Thomas Compare to the New Testament',\n",
    "         'The Gospel Q: The source gospel for Mark, Matthew, Luke and Thomas',\n",
    "         'The Complete Gospel Parallels: Synopses of the Gospels Matthew, Mark, Luke, John, Thomas, Peter, Other Gospels and the Reconstructed Q Gospel by Arthur J. Dewey (15-Jan-2012) Paperback',\n",
    "         'These Final Days Part 2: The Truth about How the Great Tribulation Begins, the Third Temple, and Jerusalem',\n",
    "         'The Complete Books of Enoch (Annotated): 1 Enoch: The Ethiopian Book of Enoch, 2 Enoch: The Book of the Secrets of Enoch, and 3 Enoch: The Hebrew Book of Enoch (Collectors Edition)',\n",
    "         'The Gnostic Gospels: Including the Gospel of Thomas, the Gospel of Mary Magdalene (Sacred Texts)',\n",
    "         'The Lost Gospel Q: The Original Sayings of Jesus',\n",
    "         'Lost Books of the Bible: The Great Rejected Texts',\n",
    "         'Beyond Belief: The Secret Gospel of Thomas',\n",
    "         'The Gnostic Bible: Revised and Expanded Edition',\n",
    "         'The Complete Gospels, 4th Edition',\n",
    "         'The Gospel of Thomas: A New Translation for Spiritual Seekers',\n",
    "         'The Thomas Code: Solving the mystery of the Gospel of Thomas',\n",
    "         'Jesus Through Middle Eastern Eyes: Cultural Studies in the Gospels',\n",
    "         'The Lost Books of the Bible',\n",
    "         'The Lost Gospel of Barabbas: Exodus (The Lost Gospel of Barabbas Trilogy Book 2)',\n",
    "         'The Books of Enoch: Complete Edition: Including (1) The Ethiopian Book of Enoch, (2) The Slavonic Secrets and (3) The Hebrew Book of Enoch']\n",
    "\n"
   ]
  },
  {
   "cell_type": "code",
   "execution_count": 2,
   "metadata": {},
   "outputs": [
    {
     "data": {
      "text/plain": [
       "24"
      ]
     },
     "execution_count": 2,
     "metadata": {},
     "output_type": "execute_result"
    }
   ],
   "source": [
    "len(books)"
   ]
  },
  {
   "cell_type": "markdown",
   "metadata": {},
   "source": [
    "b.\tIn Python, run one of the text-similarity measures covered in this course, e.g., cosine similarity. Compare each of the book titles, pairwise, to every other one. <br>"
   ]
  },
  {
   "cell_type": "code",
   "execution_count": 3,
   "metadata": {},
   "outputs": [],
   "source": [
    "# build vectors and pairwise cosine similarities\n",
    "import itertools\n",
    "from sklearn.feature_extraction.text import TfidfVectorizer\n",
    "from sklearn.metrics.pairwise import cosine_similarity\n",
    "\n",
    "class homework():\n",
    "    def __init__(self, books):\n",
    "        self=self\n",
    "        self.books = books\n",
    "\n",
    "    def pairwise_comp(self):\n",
    "        score_combinations = []\n",
    "        for a,b in itertools.combinations(self.books, 2):\n",
    "            vectorizer = TfidfVectorizer()\n",
    "            vectors = vectorizer.fit_transform([a,b])\n",
    "            score_combinations.append([round(cosine_similarity(vectors)[0][1],3),[a,b]])\n",
    "        self.score_combinations = score_combinations"
   ]
  },
  {
   "cell_type": "code",
   "execution_count": 4,
   "metadata": {},
   "outputs": [
    {
     "name": "stdout",
     "output_type": "stream",
     "text": [
      "Let's look at the first 3 similary scores and combinations of titles\n",
      "Similarity score between \n",
      "Before the Gospels: The Gospels of Thomas, Q, Signs, and The Passion: The Writings from Which the Gospels Sprang \n",
      "and \n",
      "The Gnostic Gospels: The Gnostic Wisdom of Jesus including the Lost Apocryphal Gospel of Thomas, John and Mary Magdalene \n",
      "is [0.478]\n",
      "-------\n",
      "Similarity score between \n",
      "Before the Gospels: The Gospels of Thomas, Q, Signs, and The Passion: The Writings from Which the Gospels Sprang \n",
      "and \n",
      "The Gospel Of Mary And Other Apocryphal Gospels: The Gospel Of Mary, Peter, Thomas, The Birth Of Mary And The Acts Of Pontius Pilate \n",
      "is [0.478]\n",
      "-------\n",
      "Similarity score between \n",
      "Before the Gospels: The Gospels of Thomas, Q, Signs, and The Passion: The Writings from Which the Gospels Sprang \n",
      "and \n",
      "The Critical Edition of Q (Hermeneia) \n",
      "is [0.272]\n",
      "-------\n"
     ]
    }
   ],
   "source": [
    "scores = homework(books)\n",
    "scores.pairwise_comp()\n",
    "print('Let\\'s look at the first 3 similary scores and combinations of titles')\n",
    "for i,x in scores.score_combinations[0:3]:\n",
    "    print(f'Similarity score between \\n{x[0]} \\nand \\n{x[1]} \\nis {[i]}\\n-------')\n"
   ]
  },
  {
   "cell_type": "markdown",
   "metadata": {},
   "source": [
    "---\n",
    "\n",
    "c.\tWhich two titles are the most similar to each other? Which are the most dissimilar? Where do they rank, among the first 24 results?"
   ]
  },
  {
   "cell_type": "code",
   "execution_count": 5,
   "metadata": {},
   "outputs": [
    {
     "name": "stdout",
     "output_type": "stream",
     "text": [
      "The book titles with the most similarity has a score of 0.904 and were \n",
      "The Complete Books of Enoch (Annotated): 1 Enoch: The Ethiopian Book of Enoch, 2 Enoch: The Book of the Secrets of Enoch, and 3 Enoch: The Hebrew Book of Enoch (Collectors Edition)\n",
      "and\n",
      "The Books of Enoch: Complete Edition: Including (1) The Ethiopian Book of Enoch, (2) The Slavonic Secrets and (3) The Hebrew Book of Enoch\n",
      "---\n",
      "The book titles with the least similarity has a score of 0.0 and were \n",
      "Q Thomas Reader (English, Coptic and Coptic Edition)\n",
      "and\n",
      "The Lost Gospel of Barabbas: Exodus (The Lost Gospel of Barabbas Trilogy Book 2)\n"
     ]
    }
   ],
   "source": [
    "score_comb = scores.score_combinations\n",
    "score_comb = sorted(score_comb, key=lambda x: x[0], reverse=True)\n",
    "print(f'The book titles with the most similarity has a score of {score_comb[0][0]} and were \\n{score_comb[0][1][0]}\\nand\\n{score_comb[0][1][1]}')\n",
    "print('---')\n",
    "print(f'The book titles with the least similarity has a score of {score_comb[-1][0]} and were \\n{score_comb[-1][1][0]}\\nand\\n{score_comb[-1][1][1]}')"
   ]
  },
  {
   "cell_type": "code",
   "execution_count": 6,
   "metadata": {},
   "outputs": [
    {
     "name": "stdout",
     "output_type": "stream",
     "text": [
      "This is where each title was ranked in the Amazon title list:\n",
      "6: Q Thomas Reader (English, Coptic and Coptic Edition)\n",
      "12: The Complete Books of Enoch (Annotated): 1 Enoch: The Ethiopian Book of Enoch, 2 Enoch: The Book of the Secrets of Enoch, and 3 Enoch: The Hebrew Book of Enoch (Collectors Edition)\n",
      "23: The Lost Gospel of Barabbas: Exodus (The Lost Gospel of Barabbas Trilogy Book 2)\n",
      "24: The Books of Enoch: Complete Edition: Including (1) The Ethiopian Book of Enoch, (2) The Slavonic Secrets and (3) The Hebrew Book of Enoch\n"
     ]
    }
   ],
   "source": [
    "b = [score_comb[0][1][0],score_comb[0][1][1],score_comb[-1][1][0],score_comb[-1][1][1]]\n",
    "import numpy as np\n",
    "# find the rank of each title \n",
    "rank = [books.index(i) for i in b]\n",
    "rank.sort()\n",
    "print('This is where each title was ranked in the Amazon title list:')\n",
    "for r in rank:\n",
    "    print(f'{r+1}: {books[r]}')\n",
    "    "
   ]
  },
  {
   "cell_type": "markdown",
   "metadata": {},
   "source": [
    "---\n",
    "2.\tNow evaluate using a major search engine.<br>\n",
    "a.\tEnter one of the book titles from question 1a into Google, Bing, or Yahoo!. Copy the capsule of the first organic result and the 20th organic result. Take web results only (i.e., not video results), and skip sponsored results. \n"
   ]
  },
  {
   "cell_type": "code",
   "execution_count": 7,
   "metadata": {},
   "outputs": [],
   "source": [
    "queries = ['The Gospels of Thomas, Q, Signs, and The Passion ...https://www.amazon.com › Before-Gospels-Passion-Nar...Amazon.com: Before The Gospels: The Gospels of Thomas, Q, Signs, and The Passion Narrative: The       Writings from which the Gospels Sprang eBook : Lumpkin, ...Rating: 3.7 · 8 reviews',\n",
    "          'The Four Gospels (Literature) - TV Tropeshttps://tvtropes.org › Literature A description of tropes appearing in Four Gospels. The first four books of the New Testament, chronicling the life of one Jesus Christ the son of David, ...']"
   ]
  },
  {
   "cell_type": "markdown",
   "metadata": {},
   "source": [
    "---\n",
    "b.\tRun the same text similarity calculation that you used for question 1b on each of these capsules in comparison to the original query (book title). "
   ]
  },
  {
   "cell_type": "code",
   "execution_count": 8,
   "metadata": {},
   "outputs": [
    {
     "name": "stdout",
     "output_type": "stream",
     "text": [
      "The returned cosine similarity scores are 0.8579431731423922 and 0.4631339961861422.\n"
     ]
    }
   ],
   "source": [
    "cos_scores = []\n",
    "vectorizer = TfidfVectorizer()\n",
    "for query in queries:\n",
    "    vectors = vectorizer.fit_transform([books[0], query])\n",
    "    cos_scores.append(cosine_similarity(vectors)[0][1])\n",
    "print(f'The returned cosine similarity scores are {cos_scores[0]} and {cos_scores[1]}.')"
   ]
  },
  {
   "cell_type": "code",
   "execution_count": 11,
   "metadata": {},
   "outputs": [
    {
     "data": {
      "text/plain": [
       "0.2738188405797102"
      ]
     },
     "execution_count": 11,
     "metadata": {},
     "output_type": "execute_result"
    }
   ],
   "source": [
    "sc = [s[0] for s in scores.score_combinations]\n",
    "np.mean(sc)"
   ]
  },
  {
   "cell_type": "markdown",
   "metadata": {},
   "source": [
    "---\n",
    "c.\tWhich one has the highest similarity measure? <br>\n",
    "<font color='blue'>The first google search has the highest similary measure to the original book title with a score of 0.858 <br>\n",
    "<br>\n",
    "Insights:\n",
    "For this project I searched for book titles relating to the ending of the async videos where the professor talks about Q and the Thomas gospel. I have no history of searching for any religous items on Amazon, so I thought it might make the assignming more interesting. The search results returned a lot of book titles that were appeared to be very similar to the original book title. In fact it returned one of the twice so I had to go back copy an additional one.<br>\n",
    "After studying this unit it is interesting to see that Amazon appears to be recommending titles based on a combination of Cosine Similary. When I compared the google search results from result 1 to result 20, I notice that it is a higher similarity score than the mean of the Amazon search results."
   ]
  }
 ],
 "metadata": {
  "interpreter": {
   "hash": "dc76590e1530504174433028253576690c6f5ed15348c7b1c3cd4d3d39be5941"
  },
  "kernelspec": {
   "display_name": "Python 3.9.9 ('nlp')",
   "language": "python",
   "name": "python3"
  },
  "language_info": {
   "codemirror_mode": {
    "name": "ipython",
    "version": 3
   },
   "file_extension": ".py",
   "mimetype": "text/x-python",
   "name": "python",
   "nbconvert_exporter": "python",
   "pygments_lexer": "ipython3",
   "version": "3.9.9"
  },
  "orig_nbformat": 4
 },
 "nbformat": 4,
 "nbformat_minor": 2
}
